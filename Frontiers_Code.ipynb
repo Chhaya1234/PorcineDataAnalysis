{
  "nbformat": 4,
  "nbformat_minor": 0,
  "metadata": {
    "colab": {
      "name": "Frontiers_Code.ipynb",
      "provenance": [],
      "collapsed_sections": [],
      "authorship_tag": "ABX9TyP23ykLn6md3vQC1StCvmz9",
      "include_colab_link": true
    },
    "kernelspec": {
      "name": "python3",
      "display_name": "Python 3"
    },
    "language_info": {
      "name": "python"
    }
  },
  "cells": [
    {
      "cell_type": "markdown",
      "metadata": {
        "id": "view-in-github",
        "colab_type": "text"
      },
      "source": [
        "<a href=\"https://colab.research.google.com/github/Chhaya1234/repo123/blob/main/Frontiers_Code.ipynb\" target=\"_parent\"><img src=\"https://colab.research.google.com/assets/colab-badge.svg\" alt=\"Open In Colab\"/></a>"
      ]
    },
    {
      "cell_type": "code",
      "execution_count": 1,
      "metadata": {
        "id": "Iu3QakyNNvKx"
      },
      "outputs": [],
      "source": [
        "#Performing Canonical Correlation Analysis on Porcine Data\n",
        "import pandas as pd"
      ]
    },
    {
      "cell_type": "code",
      "source": [
        "Nov = pd.read_csv(\"/content/28thNov_Porcine_CSV.csv\")"
      ],
      "metadata": {
        "id": "f8AbtoOfN0Qm"
      },
      "execution_count": 5,
      "outputs": []
    },
    {
      "cell_type": "code",
      "source": [
        "Nov.head(19)"
      ],
      "metadata": {
        "colab": {
          "base_uri": "https://localhost:8080/",
          "height": 645
        },
        "id": "cBAothW0N1lc",
        "outputId": "68c7ac73-53b7-4c96-f89a-32ca57029894"
      },
      "execution_count": 6,
      "outputs": [
        {
          "output_type": "execute_result",
          "data": {
            "text/plain": [
              "        LYMPH      MONO  TNF_Alpha  IL1_Beta  INF_Alpha  Average_IL6  \\\n",
              "0   -1.955714 -0.135714   0.000000 -0.100189   0.132167    -0.340635   \n",
              "1   -2.448571 -0.410000   0.000000 -0.044113   0.044704     0.159651   \n",
              "2   -1.020000 -0.412857   0.000000 -0.054240  -0.025267     0.030082   \n",
              "3   -1.225714 -0.261429   0.000000 -0.067404   0.134111     0.097029   \n",
              "4   -0.861429  0.294286   0.172877  0.000949   0.244898     0.301607   \n",
              "5   -2.397143 -0.340000   0.000000  0.048734   0.242954     0.199761   \n",
              "6   -2.857143 -0.545714   0.443146 -0.277714   0.398671    -0.027299   \n",
              "7    0.071429  0.288571   0.000000  0.042162   0.097176    -0.191094   \n",
              "8   -1.192857 -0.104286   0.000000 -0.420553  -0.117110     0.461367   \n",
              "9  -11.934286 -1.742857  -1.252814 -1.790007  -1.709302    -0.159929   \n",
              "10 -12.588571 -2.330000  -1.252814 -0.433616  -0.306478    -0.113666   \n",
              "11  -1.054286 -0.070000   0.000000 -0.030161   0.149502     0.355009   \n",
              "12   3.304286  0.050000  -0.061273 -0.069535  -0.146549     2.463380   \n",
              "13 -10.528571 -0.504286  -0.816407 -0.005531  -0.446464    -0.042254   \n",
              "14 -12.265714 -0.871429  -0.816407 -0.499786  -0.040897    -0.042254   \n",
              "15 -10.745714 -1.045714  -0.979689 -0.932407  -1.148537    -0.050704   \n",
              "16  -1.845714 -0.402857   0.000000  0.000000   0.000000     0.000000   \n",
              "17   2.850000  0.777143   0.000000 -0.160208   0.374893     1.642455   \n",
              "18  -2.208571 -0.198571   0.000000  0.028644   0.015337     1.082897   \n",
              "\n",
              "    Average_IL8  Average_NEUT  Average_BloodLoss  clot  Survived  \n",
              "0     -0.003481      0.662857           0.043956     0         1  \n",
              "1     -0.069613      0.684286           0.249084     0         1  \n",
              "2      0.083793      0.892857          -0.205128     0         1  \n",
              "3      0.070515      0.730000           0.058608     0         1  \n",
              "4      0.583074      0.858571           0.052308     0         1  \n",
              "5      0.030681      1.344286          -0.029304     0         1  \n",
              "6     -0.143311      0.564286           0.000000     0         1  \n",
              "7      0.153251      0.998571           0.014652     0         1  \n",
              "8     -0.172423      0.861429           0.029304     1         1  \n",
              "9     -1.482574     -0.747143           0.000000     0         0  \n",
              "10    -0.445908     -1.458571           0.000000     1         0  \n",
              "11     0.013373      0.750000           0.043956     0         1  \n",
              "12    -0.168027      1.031429          -0.022125     1         1  \n",
              "13    -0.368864     -0.472857           0.000000     1         0  \n",
              "14    -0.264214     -1.030000           0.000000     0         0  \n",
              "15    -0.740837     -0.634286           0.000000     1         0  \n",
              "16     0.000000      0.627143           0.000000     0         1  \n",
              "17     0.570220      0.788571           0.102564     1         1  \n",
              "18     0.221301      0.315714           0.006447     1         1  "
            ],
            "text/html": [
              "\n",
              "  <div id=\"df-be385127-7b52-4972-9a43-b1b5f5d3ae93\">\n",
              "    <div class=\"colab-df-container\">\n",
              "      <div>\n",
              "<style scoped>\n",
              "    .dataframe tbody tr th:only-of-type {\n",
              "        vertical-align: middle;\n",
              "    }\n",
              "\n",
              "    .dataframe tbody tr th {\n",
              "        vertical-align: top;\n",
              "    }\n",
              "\n",
              "    .dataframe thead th {\n",
              "        text-align: right;\n",
              "    }\n",
              "</style>\n",
              "<table border=\"1\" class=\"dataframe\">\n",
              "  <thead>\n",
              "    <tr style=\"text-align: right;\">\n",
              "      <th></th>\n",
              "      <th>LYMPH</th>\n",
              "      <th>MONO</th>\n",
              "      <th>TNF_Alpha</th>\n",
              "      <th>IL1_Beta</th>\n",
              "      <th>INF_Alpha</th>\n",
              "      <th>Average_IL6</th>\n",
              "      <th>Average_IL8</th>\n",
              "      <th>Average_NEUT</th>\n",
              "      <th>Average_BloodLoss</th>\n",
              "      <th>clot</th>\n",
              "      <th>Survived</th>\n",
              "    </tr>\n",
              "  </thead>\n",
              "  <tbody>\n",
              "    <tr>\n",
              "      <th>0</th>\n",
              "      <td>-1.955714</td>\n",
              "      <td>-0.135714</td>\n",
              "      <td>0.000000</td>\n",
              "      <td>-0.100189</td>\n",
              "      <td>0.132167</td>\n",
              "      <td>-0.340635</td>\n",
              "      <td>-0.003481</td>\n",
              "      <td>0.662857</td>\n",
              "      <td>0.043956</td>\n",
              "      <td>0</td>\n",
              "      <td>1</td>\n",
              "    </tr>\n",
              "    <tr>\n",
              "      <th>1</th>\n",
              "      <td>-2.448571</td>\n",
              "      <td>-0.410000</td>\n",
              "      <td>0.000000</td>\n",
              "      <td>-0.044113</td>\n",
              "      <td>0.044704</td>\n",
              "      <td>0.159651</td>\n",
              "      <td>-0.069613</td>\n",
              "      <td>0.684286</td>\n",
              "      <td>0.249084</td>\n",
              "      <td>0</td>\n",
              "      <td>1</td>\n",
              "    </tr>\n",
              "    <tr>\n",
              "      <th>2</th>\n",
              "      <td>-1.020000</td>\n",
              "      <td>-0.412857</td>\n",
              "      <td>0.000000</td>\n",
              "      <td>-0.054240</td>\n",
              "      <td>-0.025267</td>\n",
              "      <td>0.030082</td>\n",
              "      <td>0.083793</td>\n",
              "      <td>0.892857</td>\n",
              "      <td>-0.205128</td>\n",
              "      <td>0</td>\n",
              "      <td>1</td>\n",
              "    </tr>\n",
              "    <tr>\n",
              "      <th>3</th>\n",
              "      <td>-1.225714</td>\n",
              "      <td>-0.261429</td>\n",
              "      <td>0.000000</td>\n",
              "      <td>-0.067404</td>\n",
              "      <td>0.134111</td>\n",
              "      <td>0.097029</td>\n",
              "      <td>0.070515</td>\n",
              "      <td>0.730000</td>\n",
              "      <td>0.058608</td>\n",
              "      <td>0</td>\n",
              "      <td>1</td>\n",
              "    </tr>\n",
              "    <tr>\n",
              "      <th>4</th>\n",
              "      <td>-0.861429</td>\n",
              "      <td>0.294286</td>\n",
              "      <td>0.172877</td>\n",
              "      <td>0.000949</td>\n",
              "      <td>0.244898</td>\n",
              "      <td>0.301607</td>\n",
              "      <td>0.583074</td>\n",
              "      <td>0.858571</td>\n",
              "      <td>0.052308</td>\n",
              "      <td>0</td>\n",
              "      <td>1</td>\n",
              "    </tr>\n",
              "    <tr>\n",
              "      <th>5</th>\n",
              "      <td>-2.397143</td>\n",
              "      <td>-0.340000</td>\n",
              "      <td>0.000000</td>\n",
              "      <td>0.048734</td>\n",
              "      <td>0.242954</td>\n",
              "      <td>0.199761</td>\n",
              "      <td>0.030681</td>\n",
              "      <td>1.344286</td>\n",
              "      <td>-0.029304</td>\n",
              "      <td>0</td>\n",
              "      <td>1</td>\n",
              "    </tr>\n",
              "    <tr>\n",
              "      <th>6</th>\n",
              "      <td>-2.857143</td>\n",
              "      <td>-0.545714</td>\n",
              "      <td>0.443146</td>\n",
              "      <td>-0.277714</td>\n",
              "      <td>0.398671</td>\n",
              "      <td>-0.027299</td>\n",
              "      <td>-0.143311</td>\n",
              "      <td>0.564286</td>\n",
              "      <td>0.000000</td>\n",
              "      <td>0</td>\n",
              "      <td>1</td>\n",
              "    </tr>\n",
              "    <tr>\n",
              "      <th>7</th>\n",
              "      <td>0.071429</td>\n",
              "      <td>0.288571</td>\n",
              "      <td>0.000000</td>\n",
              "      <td>0.042162</td>\n",
              "      <td>0.097176</td>\n",
              "      <td>-0.191094</td>\n",
              "      <td>0.153251</td>\n",
              "      <td>0.998571</td>\n",
              "      <td>0.014652</td>\n",
              "      <td>0</td>\n",
              "      <td>1</td>\n",
              "    </tr>\n",
              "    <tr>\n",
              "      <th>8</th>\n",
              "      <td>-1.192857</td>\n",
              "      <td>-0.104286</td>\n",
              "      <td>0.000000</td>\n",
              "      <td>-0.420553</td>\n",
              "      <td>-0.117110</td>\n",
              "      <td>0.461367</td>\n",
              "      <td>-0.172423</td>\n",
              "      <td>0.861429</td>\n",
              "      <td>0.029304</td>\n",
              "      <td>1</td>\n",
              "      <td>1</td>\n",
              "    </tr>\n",
              "    <tr>\n",
              "      <th>9</th>\n",
              "      <td>-11.934286</td>\n",
              "      <td>-1.742857</td>\n",
              "      <td>-1.252814</td>\n",
              "      <td>-1.790007</td>\n",
              "      <td>-1.709302</td>\n",
              "      <td>-0.159929</td>\n",
              "      <td>-1.482574</td>\n",
              "      <td>-0.747143</td>\n",
              "      <td>0.000000</td>\n",
              "      <td>0</td>\n",
              "      <td>0</td>\n",
              "    </tr>\n",
              "    <tr>\n",
              "      <th>10</th>\n",
              "      <td>-12.588571</td>\n",
              "      <td>-2.330000</td>\n",
              "      <td>-1.252814</td>\n",
              "      <td>-0.433616</td>\n",
              "      <td>-0.306478</td>\n",
              "      <td>-0.113666</td>\n",
              "      <td>-0.445908</td>\n",
              "      <td>-1.458571</td>\n",
              "      <td>0.000000</td>\n",
              "      <td>1</td>\n",
              "      <td>0</td>\n",
              "    </tr>\n",
              "    <tr>\n",
              "      <th>11</th>\n",
              "      <td>-1.054286</td>\n",
              "      <td>-0.070000</td>\n",
              "      <td>0.000000</td>\n",
              "      <td>-0.030161</td>\n",
              "      <td>0.149502</td>\n",
              "      <td>0.355009</td>\n",
              "      <td>0.013373</td>\n",
              "      <td>0.750000</td>\n",
              "      <td>0.043956</td>\n",
              "      <td>0</td>\n",
              "      <td>1</td>\n",
              "    </tr>\n",
              "    <tr>\n",
              "      <th>12</th>\n",
              "      <td>3.304286</td>\n",
              "      <td>0.050000</td>\n",
              "      <td>-0.061273</td>\n",
              "      <td>-0.069535</td>\n",
              "      <td>-0.146549</td>\n",
              "      <td>2.463380</td>\n",
              "      <td>-0.168027</td>\n",
              "      <td>1.031429</td>\n",
              "      <td>-0.022125</td>\n",
              "      <td>1</td>\n",
              "      <td>1</td>\n",
              "    </tr>\n",
              "    <tr>\n",
              "      <th>13</th>\n",
              "      <td>-10.528571</td>\n",
              "      <td>-0.504286</td>\n",
              "      <td>-0.816407</td>\n",
              "      <td>-0.005531</td>\n",
              "      <td>-0.446464</td>\n",
              "      <td>-0.042254</td>\n",
              "      <td>-0.368864</td>\n",
              "      <td>-0.472857</td>\n",
              "      <td>0.000000</td>\n",
              "      <td>1</td>\n",
              "      <td>0</td>\n",
              "    </tr>\n",
              "    <tr>\n",
              "      <th>14</th>\n",
              "      <td>-12.265714</td>\n",
              "      <td>-0.871429</td>\n",
              "      <td>-0.816407</td>\n",
              "      <td>-0.499786</td>\n",
              "      <td>-0.040897</td>\n",
              "      <td>-0.042254</td>\n",
              "      <td>-0.264214</td>\n",
              "      <td>-1.030000</td>\n",
              "      <td>0.000000</td>\n",
              "      <td>0</td>\n",
              "      <td>0</td>\n",
              "    </tr>\n",
              "    <tr>\n",
              "      <th>15</th>\n",
              "      <td>-10.745714</td>\n",
              "      <td>-1.045714</td>\n",
              "      <td>-0.979689</td>\n",
              "      <td>-0.932407</td>\n",
              "      <td>-1.148537</td>\n",
              "      <td>-0.050704</td>\n",
              "      <td>-0.740837</td>\n",
              "      <td>-0.634286</td>\n",
              "      <td>0.000000</td>\n",
              "      <td>1</td>\n",
              "      <td>0</td>\n",
              "    </tr>\n",
              "    <tr>\n",
              "      <th>16</th>\n",
              "      <td>-1.845714</td>\n",
              "      <td>-0.402857</td>\n",
              "      <td>0.000000</td>\n",
              "      <td>0.000000</td>\n",
              "      <td>0.000000</td>\n",
              "      <td>0.000000</td>\n",
              "      <td>0.000000</td>\n",
              "      <td>0.627143</td>\n",
              "      <td>0.000000</td>\n",
              "      <td>0</td>\n",
              "      <td>1</td>\n",
              "    </tr>\n",
              "    <tr>\n",
              "      <th>17</th>\n",
              "      <td>2.850000</td>\n",
              "      <td>0.777143</td>\n",
              "      <td>0.000000</td>\n",
              "      <td>-0.160208</td>\n",
              "      <td>0.374893</td>\n",
              "      <td>1.642455</td>\n",
              "      <td>0.570220</td>\n",
              "      <td>0.788571</td>\n",
              "      <td>0.102564</td>\n",
              "      <td>1</td>\n",
              "      <td>1</td>\n",
              "    </tr>\n",
              "    <tr>\n",
              "      <th>18</th>\n",
              "      <td>-2.208571</td>\n",
              "      <td>-0.198571</td>\n",
              "      <td>0.000000</td>\n",
              "      <td>0.028644</td>\n",
              "      <td>0.015337</td>\n",
              "      <td>1.082897</td>\n",
              "      <td>0.221301</td>\n",
              "      <td>0.315714</td>\n",
              "      <td>0.006447</td>\n",
              "      <td>1</td>\n",
              "      <td>1</td>\n",
              "    </tr>\n",
              "  </tbody>\n",
              "</table>\n",
              "</div>\n",
              "      <button class=\"colab-df-convert\" onclick=\"convertToInteractive('df-be385127-7b52-4972-9a43-b1b5f5d3ae93')\"\n",
              "              title=\"Convert this dataframe to an interactive table.\"\n",
              "              style=\"display:none;\">\n",
              "        \n",
              "  <svg xmlns=\"http://www.w3.org/2000/svg\" height=\"24px\"viewBox=\"0 0 24 24\"\n",
              "       width=\"24px\">\n",
              "    <path d=\"M0 0h24v24H0V0z\" fill=\"none\"/>\n",
              "    <path d=\"M18.56 5.44l.94 2.06.94-2.06 2.06-.94-2.06-.94-.94-2.06-.94 2.06-2.06.94zm-11 1L8.5 8.5l.94-2.06 2.06-.94-2.06-.94L8.5 2.5l-.94 2.06-2.06.94zm10 10l.94 2.06.94-2.06 2.06-.94-2.06-.94-.94-2.06-.94 2.06-2.06.94z\"/><path d=\"M17.41 7.96l-1.37-1.37c-.4-.4-.92-.59-1.43-.59-.52 0-1.04.2-1.43.59L10.3 9.45l-7.72 7.72c-.78.78-.78 2.05 0 2.83L4 21.41c.39.39.9.59 1.41.59.51 0 1.02-.2 1.41-.59l7.78-7.78 2.81-2.81c.8-.78.8-2.07 0-2.86zM5.41 20L4 18.59l7.72-7.72 1.47 1.35L5.41 20z\"/>\n",
              "  </svg>\n",
              "      </button>\n",
              "      \n",
              "  <style>\n",
              "    .colab-df-container {\n",
              "      display:flex;\n",
              "      flex-wrap:wrap;\n",
              "      gap: 12px;\n",
              "    }\n",
              "\n",
              "    .colab-df-convert {\n",
              "      background-color: #E8F0FE;\n",
              "      border: none;\n",
              "      border-radius: 50%;\n",
              "      cursor: pointer;\n",
              "      display: none;\n",
              "      fill: #1967D2;\n",
              "      height: 32px;\n",
              "      padding: 0 0 0 0;\n",
              "      width: 32px;\n",
              "    }\n",
              "\n",
              "    .colab-df-convert:hover {\n",
              "      background-color: #E2EBFA;\n",
              "      box-shadow: 0px 1px 2px rgba(60, 64, 67, 0.3), 0px 1px 3px 1px rgba(60, 64, 67, 0.15);\n",
              "      fill: #174EA6;\n",
              "    }\n",
              "\n",
              "    [theme=dark] .colab-df-convert {\n",
              "      background-color: #3B4455;\n",
              "      fill: #D2E3FC;\n",
              "    }\n",
              "\n",
              "    [theme=dark] .colab-df-convert:hover {\n",
              "      background-color: #434B5C;\n",
              "      box-shadow: 0px 1px 3px 1px rgba(0, 0, 0, 0.15);\n",
              "      filter: drop-shadow(0px 1px 2px rgba(0, 0, 0, 0.3));\n",
              "      fill: #FFFFFF;\n",
              "    }\n",
              "  </style>\n",
              "\n",
              "      <script>\n",
              "        const buttonEl =\n",
              "          document.querySelector('#df-be385127-7b52-4972-9a43-b1b5f5d3ae93 button.colab-df-convert');\n",
              "        buttonEl.style.display =\n",
              "          google.colab.kernel.accessAllowed ? 'block' : 'none';\n",
              "\n",
              "        async function convertToInteractive(key) {\n",
              "          const element = document.querySelector('#df-be385127-7b52-4972-9a43-b1b5f5d3ae93');\n",
              "          const dataTable =\n",
              "            await google.colab.kernel.invokeFunction('convertToInteractive',\n",
              "                                                     [key], {});\n",
              "          if (!dataTable) return;\n",
              "\n",
              "          const docLinkHtml = 'Like what you see? Visit the ' +\n",
              "            '<a target=\"_blank\" href=https://colab.research.google.com/notebooks/data_table.ipynb>data table notebook</a>'\n",
              "            + ' to learn more about interactive tables.';\n",
              "          element.innerHTML = '';\n",
              "          dataTable['output_type'] = 'display_data';\n",
              "          await google.colab.output.renderOutput(dataTable, element);\n",
              "          const docLink = document.createElement('div');\n",
              "          docLink.innerHTML = docLinkHtml;\n",
              "          element.appendChild(docLink);\n",
              "        }\n",
              "      </script>\n",
              "    </div>\n",
              "  </div>\n",
              "  "
            ]
          },
          "metadata": {},
          "execution_count": 6
        }
      ]
    },
    {
      "cell_type": "code",
      "source": [
        "from sklearn.cross_decomposition import CCA\n",
        "\n",
        "\n",
        "# Split the data in X and Y\n",
        "X = Nov[['LYMPH','MONO','TNF_Alpha','IL1_Beta','INF_Alpha','Average_IL6', 'Average_IL8', 'Average_NEUT', 'Average_BloodLoss']]\n",
        "Y = Nov[['clot', 'Survived']]\n",
        "\n",
        "# Instantiate the Canonical Correlation Analysis with 2 components\n",
        "my_cca = CCA(n_components=2)\n",
        "\n",
        "# Fit the model\n",
        "my_cca.fit(X, Y)"
      ],
      "metadata": {
        "colab": {
          "base_uri": "https://localhost:8080/"
        },
        "id": "LStiJUdrOFnE",
        "outputId": "5047d3e4-65c1-46c3-8fe7-d9c83cc5c4e8"
      },
      "execution_count": 7,
      "outputs": [
        {
          "output_type": "execute_result",
          "data": {
            "text/plain": [
              "CCA()"
            ]
          },
          "metadata": {},
          "execution_count": 7
        }
      ]
    },
    {
      "cell_type": "code",
      "source": [
        "import numpy as np\n",
        "import matplotlib.pyplot as plt\n",
        "\n",
        "# Obtain the rotation matrices\n",
        "xrot = my_cca.x_rotations_\n",
        "yrot = my_cca.y_rotations_\n",
        "\n",
        "# Put them together in a numpy matrix\n",
        "xyrot = np.vstack((xrot,yrot))\n",
        "\n",
        "nvariables = xyrot.shape[0]\n",
        "\n",
        "plt.figure(figsize=(15, 15))\n",
        "plt.xlim((-1,1))\n",
        "plt.ylim((-1,1))\n",
        "\n",
        "# Plot an arrow and a text label for each variable\n",
        "for var_i in range(nvariables):\n",
        "  x = xyrot[var_i,0]\n",
        "  y = xyrot[var_i,1]\n",
        "\n",
        "  plt.arrow(0,0,x,y)\n",
        "  plt.text(x,y,Nov.columns[var_i], color='red' if var_i > 8 else 'blue')\n",
        "\n",
        "plt.show()"
      ],
      "metadata": {
        "colab": {
          "base_uri": "https://localhost:8080/",
          "height": 871
        },
        "id": "FaP9Xkm7OGcI",
        "outputId": "b9e0f79e-3dc6-4a69-e168-68070b545c51"
      },
      "execution_count": 8,
      "outputs": [
        {
          "output_type": "display_data",
          "data": {
            "text/plain": [
              "<Figure size 1080x1080 with 1 Axes>"
            ],
            "image/png": "[encoded data removed]"
          },
          "metadata": {
            "needs_background": "light"
          }
        }
      ]
    },
    {
      "cell_type": "markdown",
      "source": [
        "**Feature Importance for Clot**"
      ],
      "metadata": {
        "id": "Kk14tCDoSG5f"
      }
    },
    {
      "cell_type": "code",
      "source": [
        "import pandas as pd\n",
        "import numpy as np\n",
        "import matplotlib.pyplot as plt\n",
        "import seaborn as sns\n",
        "import progressbar\n",
        "import random\n",
        "from google.colab import files\n",
        "from sklearn.model_selection import train_test_split\n",
        "from sklearn import metrics\n",
        "from sklearn.ensemble import RandomForestClassifier\n",
        "from sklearn.metrics import accuracy_score,precision_score,recall_score"
      ],
      "metadata": {
        "id": "HsHTmbtrSLVA"
      },
      "execution_count": 10,
      "outputs": []
    },
    {
      "cell_type": "code",
      "source": [
        "data = pd.read_csv(\"/content/Clot_CSV.csv\")"
      ],
      "metadata": {
        "id": "lLjwiXLdSOla"
      },
      "execution_count": 14,
      "outputs": []
    },
    {
      "cell_type": "code",
      "source": [
        "data.head()"
      ],
      "metadata": {
        "colab": {
          "base_uri": "https://localhost:8080/",
          "height": 206
        },
        "id": "0h7ArXuASQTX",
        "outputId": "04b5056f-6adf-4999-fb4a-b197da2f6086"
      },
      "execution_count": 15,
      "outputs": [
        {
          "output_type": "execute_result",
          "data": {
            "text/plain": [
              "   #LYMPH  #MO0  TNF-alpha  IL1-Beta  INF-alpha  Average_IL6  Average_IL8  \\\n",
              "0       0     0          1         0          1            0            0   \n",
              "1       0     0          1         0          1            1            0   \n",
              "2       0     0          1         0          0            1            1   \n",
              "3       0     0          1         0          1            1            1   \n",
              "4       0     2          1         2          2            1            2   \n",
              "\n",
              "   Average_NEUT  Average_BloodLoss  clot  \n",
              "0             1                  1     0  \n",
              "1             1                  2     0  \n",
              "2             1                  0     0  \n",
              "3             1                  1     0  \n",
              "4             1                  1     0  "
            ],
            "text/html": [
              "\n",
              "  <div id=\"df-f584201e-d1d9-40aa-828a-cc3c0f3f68e5\">\n",
              "    <div class=\"colab-df-container\">\n",
              "      <div>\n",
              "<style scoped>\n",
              "    .dataframe tbody tr th:only-of-type {\n",
              "        vertical-align: middle;\n",
              "    }\n",
              "\n",
              "    .dataframe tbody tr th {\n",
              "        vertical-align: top;\n",
              "    }\n",
              "\n",
              "    .dataframe thead th {\n",
              "        text-align: right;\n",
              "    }\n",
              "</style>\n",
              "<table border=\"1\" class=\"dataframe\">\n",
              "  <thead>\n",
              "    <tr style=\"text-align: right;\">\n",
              "      <th></th>\n",
              "      <th>#LYMPH</th>\n",
              "      <th>#MO0</th>\n",
              "      <th>TNF-alpha</th>\n",
              "      <th>IL1-Beta</th>\n",
              "      <th>INF-alpha</th>\n",
              "      <th>Average_IL6</th>\n",
              "      <th>Average_IL8</th>\n",
              "      <th>Average_NEUT</th>\n",
              "      <th>Average_BloodLoss</th>\n",
              "      <th>clot</th>\n",
              "    </tr>\n",
              "  </thead>\n",
              "  <tbody>\n",
              "    <tr>\n",
              "      <th>0</th>\n",
              "      <td>0</td>\n",
              "      <td>0</td>\n",
              "      <td>1</td>\n",
              "      <td>0</td>\n",
              "      <td>1</td>\n",
              "      <td>0</td>\n",
              "      <td>0</td>\n",
              "      <td>1</td>\n",
              "      <td>1</td>\n",
              "      <td>0</td>\n",
              "    </tr>\n",
              "    <tr>\n",
              "      <th>1</th>\n",
              "      <td>0</td>\n",
              "      <td>0</td>\n",
              "      <td>1</td>\n",
              "      <td>0</td>\n",
              "      <td>1</td>\n",
              "      <td>1</td>\n",
              "      <td>0</td>\n",
              "      <td>1</td>\n",
              "      <td>2</td>\n",
              "      <td>0</td>\n",
              "    </tr>\n",
              "    <tr>\n",
              "      <th>2</th>\n",
              "      <td>0</td>\n",
              "      <td>0</td>\n",
              "      <td>1</td>\n",
              "      <td>0</td>\n",
              "      <td>0</td>\n",
              "      <td>1</td>\n",
              "      <td>1</td>\n",
              "      <td>1</td>\n",
              "      <td>0</td>\n",
              "      <td>0</td>\n",
              "    </tr>\n",
              "    <tr>\n",
              "      <th>3</th>\n",
              "      <td>0</td>\n",
              "      <td>0</td>\n",
              "      <td>1</td>\n",
              "      <td>0</td>\n",
              "      <td>1</td>\n",
              "      <td>1</td>\n",
              "      <td>1</td>\n",
              "      <td>1</td>\n",
              "      <td>1</td>\n",
              "      <td>0</td>\n",
              "    </tr>\n",
              "    <tr>\n",
              "      <th>4</th>\n",
              "      <td>0</td>\n",
              "      <td>2</td>\n",
              "      <td>1</td>\n",
              "      <td>2</td>\n",
              "      <td>2</td>\n",
              "      <td>1</td>\n",
              "      <td>2</td>\n",
              "      <td>1</td>\n",
              "      <td>1</td>\n",
              "      <td>0</td>\n",
              "    </tr>\n",
              "  </tbody>\n",
              "</table>\n",
              "</div>\n",
              "      <button class=\"colab-df-convert\" onclick=\"convertToInteractive('df-f584201e-d1d9-40aa-828a-cc3c0f3f68e5')\"\n",
              "              title=\"Convert this dataframe to an interactive table.\"\n",
              "              style=\"display:none;\">\n",
              "        \n",
              "  <svg xmlns=\"http://www.w3.org/2000/svg\" height=\"24px\"viewBox=\"0 0 24 24\"\n",
              "       width=\"24px\">\n",
              "    <path d=\"M0 0h24v24H0V0z\" fill=\"none\"/>\n",
              "    <path d=\"M18.56 5.44l.94 2.06.94-2.06 2.06-.94-2.06-.94-.94-2.06-.94 2.06-2.06.94zm-11 1L8.5 8.5l.94-2.06 2.06-.94-2.06-.94L8.5 2.5l-.94 2.06-2.06.94zm10 10l.94 2.06.94-2.06 2.06-.94-2.06-.94-.94-2.06-.94 2.06-2.06.94z\"/><path d=\"M17.41 7.96l-1.37-1.37c-.4-.4-.92-.59-1.43-.59-.52 0-1.04.2-1.43.59L10.3 9.45l-7.72 7.72c-.78.78-.78 2.05 0 2.83L4 21.41c.39.39.9.59 1.41.59.51 0 1.02-.2 1.41-.59l7.78-7.78 2.81-2.81c.8-.78.8-2.07 0-2.86zM5.41 20L4 18.59l7.72-7.72 1.47 1.35L5.41 20z\"/>\n",
              "  </svg>\n",
              "      </button>\n",
              "      \n",
              "  <style>\n",
              "    .colab-df-container {\n",
              "      display:flex;\n",
              "      flex-wrap:wrap;\n",
              "      gap: 12px;\n",
              "    }\n",
              "\n",
              "    .colab-df-convert {\n",
              "      background-color: #E8F0FE;\n",
              "      border: none;\n",
              "      border-radius: 50%;\n",
              "      cursor: pointer;\n",
              "      display: none;\n",
              "      fill: #1967D2;\n",
              "      height: 32px;\n",
              "      padding: 0 0 0 0;\n",
              "      width: 32px;\n",
              "    }\n",
              "\n",
              "    .colab-df-convert:hover {\n",
              "      background-color: #E2EBFA;\n",
              "      box-shadow: 0px 1px 2px rgba(60, 64, 67, 0.3), 0px 1px 3px 1px rgba(60, 64, 67, 0.15);\n",
              "      fill: #174EA6;\n",
              "    }\n",
              "\n",
              "    [theme=dark] .colab-df-convert {\n",
              "      background-color: #3B4455;\n",
              "      fill: #D2E3FC;\n",
              "    }\n",
              "\n",
              "    [theme=dark] .colab-df-convert:hover {\n",
              "      background-color: #434B5C;\n",
              "      box-shadow: 0px 1px 3px 1px rgba(0, 0, 0, 0.15);\n",
              "      filter: drop-shadow(0px 1px 2px rgba(0, 0, 0, 0.3));\n",
              "      fill: #FFFFFF;\n",
              "    }\n",
              "  </style>\n",
              "\n",
              "      <script>\n",
              "        const buttonEl =\n",
              "          document.querySelector('#df-f584201e-d1d9-40aa-828a-cc3c0f3f68e5 button.colab-df-convert');\n",
              "        buttonEl.style.display =\n",
              "          google.colab.kernel.accessAllowed ? 'block' : 'none';\n",
              "\n",
              "        async function convertToInteractive(key) {\n",
              "          const element = document.querySelector('#df-f584201e-d1d9-40aa-828a-cc3c0f3f68e5');\n",
              "          const dataTable =\n",
              "            await google.colab.kernel.invokeFunction('convertToInteractive',\n",
              "                                                     [key], {});\n",
              "          if (!dataTable) return;\n",
              "\n",
              "          const docLinkHtml = 'Like what you see? Visit the ' +\n",
              "            '<a target=\"_blank\" href=https://colab.research.google.com/notebooks/data_table.ipynb>data table notebook</a>'\n",
              "            + ' to learn more about interactive tables.';\n",
              "          element.innerHTML = '';\n",
              "          dataTable['output_type'] = 'display_data';\n",
              "          await google.colab.output.renderOutput(dataTable, element);\n",
              "          const docLink = document.createElement('div');\n",
              "          docLink.innerHTML = docLinkHtml;\n",
              "          element.appendChild(docLink);\n",
              "        }\n",
              "      </script>\n",
              "    </div>\n",
              "  </div>\n",
              "  "
            ]
          },
          "metadata": {},
          "execution_count": 15
        }
      ]
    },
    {
      "cell_type": "code",
      "source": [
        "x=data.drop('clot',axis=1)\n",
        "y=data.clot"
      ],
      "metadata": {
        "id": "ZMt54eYgSQYR"
      },
      "execution_count": 17,
      "outputs": []
    },
    {
      "cell_type": "code",
      "source": [
        "x_train, x_test, y_train, y_test = train_test_split(x,y, test_size=0.2, random_state=1)\n",
        "x_train.shape , x_test.shape, y_train.shape, y_test.shape"
      ],
      "metadata": {
        "colab": {
          "base_uri": "https://localhost:8080/"
        },
        "id": "bERRg1soSptY",
        "outputId": "688c3f5e-8cc1-4231-ca22-0ad2d8e1f309"
      },
      "execution_count": 18,
      "outputs": [
        {
          "output_type": "execute_result",
          "data": {
            "text/plain": [
              "((15, 9), (4, 9), (15,), (4,))"
            ]
          },
          "metadata": {},
          "execution_count": 18
        }
      ]
    },
    {
      "cell_type": "code",
      "source": [
        "from sklearn.ensemble import RandomForestClassifier\n",
        "\n",
        "#Create a Gaussian Classifier\n",
        "clf=RandomForestClassifier(n_estimators=200)\n",
        "\n",
        "#Train the model using the training sets y_pred=clf.predict(X_test)\n",
        "clf.fit(x_train,y_train)"
      ],
      "metadata": {
        "colab": {
          "base_uri": "https://localhost:8080/"
        },
        "id": "eO0ELc4DSrfa",
        "outputId": "e81913a7-4224-4331-e092-8f95dab7593d"
      },
      "execution_count": 19,
      "outputs": [
        {
          "output_type": "execute_result",
          "data": {
            "text/plain": [
              "RandomForestClassifier(n_estimators=200)"
            ]
          },
          "metadata": {},
          "execution_count": 19
        }
      ]
    },
    {
      "cell_type": "code",
      "source": [
        "columns2 = data.columns.tolist()\n",
        "columns2"
      ],
      "metadata": {
        "colab": {
          "base_uri": "https://localhost:8080/"
        },
        "id": "NGeZmpJlS45k",
        "outputId": "a97aa465-1d47-4789-9811-ff8bbccea9a3"
      },
      "execution_count": 20,
      "outputs": [
        {
          "output_type": "execute_result",
          "data": {
            "text/plain": [
              "['#LYMPH',\n",
              " '#MO0',\n",
              " 'TNF-alpha',\n",
              " 'IL1-Beta',\n",
              " 'INF-alpha',\n",
              " 'Average_IL6',\n",
              " 'Average_IL8',\n",
              " 'Average_NEUT',\n",
              " 'Average_BloodLoss',\n",
              " 'clot']"
            ]
          },
          "metadata": {},
          "execution_count": 20
        }
      ]
    },
    {
      "cell_type": "code",
      "source": [
        "clf.feature_importances_"
      ],
      "metadata": {
        "colab": {
          "base_uri": "https://localhost:8080/"
        },
        "id": "XgHMEmysS7iy",
        "outputId": "b22aae26-ff9d-4ca5-ffc4-6031872298c9"
      },
      "execution_count": 21,
      "outputs": [
        {
          "output_type": "execute_result",
          "data": {
            "text/plain": [
              "array([0.11739406, 0.03463518, 0.05209432, 0.05781351, 0.14679587,\n",
              "       0.36211059, 0.10548464, 0.05882804, 0.06484379])"
            ]
          },
          "metadata": {},
          "execution_count": 21
        }
      ]
    },
    {
      "cell_type": "code",
      "source": [
        "x_train.columns"
      ],
      "metadata": {
        "colab": {
          "base_uri": "https://localhost:8080/"
        },
        "id": "dncZMrlgS7oC",
        "outputId": "f410517f-8c2a-4b2e-f0e2-5d6ed462d597"
      },
      "execution_count": 22,
      "outputs": [
        {
          "output_type": "execute_result",
          "data": {
            "text/plain": [
              "Index(['#LYMPH', '#MO0', 'TNF-alpha', 'IL1-Beta', 'INF-alpha', 'Average_IL6',\n",
              "       'Average_IL8', 'Average_NEUT', 'Average_BloodLoss'],\n",
              "      dtype='object')"
            ]
          },
          "metadata": {},
          "execution_count": 22
        }
      ]
    },
    {
      "cell_type": "code",
      "source": [
        "import pandas as pd\n",
        "feature_imp = pd.Series(clf.feature_importances_,index=x_train.columns).sort_values(ascending=False)\n",
        "feature_imp"
      ],
      "metadata": {
        "colab": {
          "base_uri": "https://localhost:8080/"
        },
        "id": "w-2ueFmBS7rO",
        "outputId": "aead9c99-9a7d-4c36-d4fd-20a709d52e31"
      },
      "execution_count": 23,
      "outputs": [
        {
          "output_type": "execute_result",
          "data": {
            "text/plain": [
              "Average_IL6          0.362111\n",
              "INF-alpha            0.146796\n",
              "#LYMPH               0.117394\n",
              "Average_IL8          0.105485\n",
              "Average_BloodLoss    0.064844\n",
              "Average_NEUT         0.058828\n",
              "IL1-Beta             0.057814\n",
              "TNF-alpha            0.052094\n",
              "#MO0                 0.034635\n",
              "dtype: float64"
            ]
          },
          "metadata": {},
          "execution_count": 23
        }
      ]
    },
    {
      "cell_type": "code",
      "source": [
        "#When n_estimators in Random Forest was set to 200\n",
        "import matplotlib.pyplot as plt\n",
        "import seaborn as sns\n",
        "%matplotlib inline\n",
        "# Creating a bar plot\n",
        "sns.barplot(x=feature_imp, y=feature_imp.index)\n",
        "# Add labels to your graph\n",
        "plt.xlabel('Feature Importance Score')\n",
        "plt.ylabel('Features')\n",
        "plt.title(\"Visualizing Important Features\")\n",
        "plt.legend()\n",
        "plt.show()"
      ],
      "metadata": {
        "colab": {
          "base_uri": "https://localhost:8080/",
          "height": 312
        },
        "id": "DjLwgh4GS_kB",
        "outputId": "72cac123-f15c-408d-a583-2035c21273f7"
      },
      "execution_count": 24,
      "outputs": [
        {
          "output_type": "stream",
          "name": "stderr",
          "text": [
            "No handles with labels found to put in legend.\n"
          ]
        },
        {
          "output_type": "display_data",
          "data": {
            "text/plain": [
              "<Figure size 432x288 with 1 Axes>"
            ],
            "image/png": "[encoded data removed]"
          },
          "metadata": {
            "needs_background": "light"
          }
        }
      ]
    },
    {
      "cell_type": "markdown",
      "source": [
        "**Feature Importance for Survival**"
      ],
      "metadata": {
        "id": "dQiMtL8y0vxv"
      }
    },
    {
      "cell_type": "code",
      "source": [
        "import pandas as pd\n",
        "import numpy as np\n",
        "import matplotlib.pyplot as plt\n",
        "import seaborn as sns\n",
        "import progressbar\n",
        "import random\n",
        "from google.colab import files\n",
        "from sklearn.model_selection import train_test_split\n",
        "from sklearn import metrics\n",
        "from sklearn.ensemble import RandomForestClassifier\n",
        "from sklearn.metrics import accuracy_score,precision_score,recall_score"
      ],
      "metadata": {
        "id": "pm99_KOuS_nj"
      },
      "execution_count": 25,
      "outputs": []
    },
    {
      "cell_type": "code",
      "source": [
        "data = pd.read_csv(\"/content/Survived_CSV.csv\")"
      ],
      "metadata": {
        "id": "TN1xISWDS_uD"
      },
      "execution_count": 26,
      "outputs": []
    },
    {
      "cell_type": "code",
      "source": [
        "data.head()"
      ],
      "metadata": {
        "colab": {
          "base_uri": "https://localhost:8080/",
          "height": 206
        },
        "id": "4rfXouI0S_xb",
        "outputId": "8ed55fea-e642-4601-e8a4-ab30b99c893b"
      },
      "execution_count": 38,
      "outputs": [
        {
          "output_type": "execute_result",
          "data": {
            "text/plain": [
              "   #LYMPH  #MO0  TNF-alpha  IL1-Beta  INF-alpha  Average_IL6  Average_IL8  \\\n",
              "0       0     0          1         0          1            0            0   \n",
              "1       0     0          1         0          1            1            0   \n",
              "2       0     0          1         0          0            1            1   \n",
              "3       0     0          1         0          1            1            1   \n",
              "4       0     2          1         2          2            1            2   \n",
              "\n",
              "   Average_NEUT  Average_BloodLoss  Survived  \n",
              "0             1                  1         1  \n",
              "1             1                  2         1  \n",
              "2             1                  0         1  \n",
              "3             1                  1         1  \n",
              "4             1                  1         1  "
            ],
            "text/html": [
              "\n",
              "  <div id=\"df-818188bb-454d-4e81-9dc3-c12a4ab740dc\">\n",
              "    <div class=\"colab-df-container\">\n",
              "      <div>\n",
              "<style scoped>\n",
              "    .dataframe tbody tr th:only-of-type {\n",
              "        vertical-align: middle;\n",
              "    }\n",
              "\n",
              "    .dataframe tbody tr th {\n",
              "        vertical-align: top;\n",
              "    }\n",
              "\n",
              "    .dataframe thead th {\n",
              "        text-align: right;\n",
              "    }\n",
              "</style>\n",
              "<table border=\"1\" class=\"dataframe\">\n",
              "  <thead>\n",
              "    <tr style=\"text-align: right;\">\n",
              "      <th></th>\n",
              "      <th>#LYMPH</th>\n",
              "      <th>#MO0</th>\n",
              "      <th>TNF-alpha</th>\n",
              "      <th>IL1-Beta</th>\n",
              "      <th>INF-alpha</th>\n",
              "      <th>Average_IL6</th>\n",
              "      <th>Average_IL8</th>\n",
              "      <th>Average_NEUT</th>\n",
              "      <th>Average_BloodLoss</th>\n",
              "      <th>Survived</th>\n",
              "    </tr>\n",
              "  </thead>\n",
              "  <tbody>\n",
              "    <tr>\n",
              "      <th>0</th>\n",
              "      <td>0</td>\n",
              "      <td>0</td>\n",
              "      <td>1</td>\n",
              "      <td>0</td>\n",
              "      <td>1</td>\n",
              "      <td>0</td>\n",
              "      <td>0</td>\n",
              "      <td>1</td>\n",
              "      <td>1</td>\n",
              "      <td>1</td>\n",
              "    </tr>\n",
              "    <tr>\n",
              "      <th>1</th>\n",
              "      <td>0</td>\n",
              "      <td>0</td>\n",
              "      <td>1</td>\n",
              "      <td>0</td>\n",
              "      <td>1</td>\n",
              "      <td>1</td>\n",
              "      <td>0</td>\n",
              "      <td>1</td>\n",
              "      <td>2</td>\n",
              "      <td>1</td>\n",
              "    </tr>\n",
              "    <tr>\n",
              "      <th>2</th>\n",
              "      <td>0</td>\n",
              "      <td>0</td>\n",
              "      <td>1</td>\n",
              "      <td>0</td>\n",
              "      <td>0</td>\n",
              "      <td>1</td>\n",
              "      <td>1</td>\n",
              "      <td>1</td>\n",
              "      <td>0</td>\n",
              "      <td>1</td>\n",
              "    </tr>\n",
              "    <tr>\n",
              "      <th>3</th>\n",
              "      <td>0</td>\n",
              "      <td>0</td>\n",
              "      <td>1</td>\n",
              "      <td>0</td>\n",
              "      <td>1</td>\n",
              "      <td>1</td>\n",
              "      <td>1</td>\n",
              "      <td>1</td>\n",
              "      <td>1</td>\n",
              "      <td>1</td>\n",
              "    </tr>\n",
              "    <tr>\n",
              "      <th>4</th>\n",
              "      <td>0</td>\n",
              "      <td>2</td>\n",
              "      <td>1</td>\n",
              "      <td>2</td>\n",
              "      <td>2</td>\n",
              "      <td>1</td>\n",
              "      <td>2</td>\n",
              "      <td>1</td>\n",
              "      <td>1</td>\n",
              "      <td>1</td>\n",
              "    </tr>\n",
              "  </tbody>\n",
              "</table>\n",
              "</div>\n",
              "      <button class=\"colab-df-convert\" onclick=\"convertToInteractive('df-818188bb-454d-4e81-9dc3-c12a4ab740dc')\"\n",
              "              title=\"Convert this dataframe to an interactive table.\"\n",
              "              style=\"display:none;\">\n",
              "        \n",
              "  <svg xmlns=\"http://www.w3.org/2000/svg\" height=\"24px\"viewBox=\"0 0 24 24\"\n",
              "       width=\"24px\">\n",
              "    <path d=\"M0 0h24v24H0V0z\" fill=\"none\"/>\n",
              "    <path d=\"M18.56 5.44l.94 2.06.94-2.06 2.06-.94-2.06-.94-.94-2.06-.94 2.06-2.06.94zm-11 1L8.5 8.5l.94-2.06 2.06-.94-2.06-.94L8.5 2.5l-.94 2.06-2.06.94zm10 10l.94 2.06.94-2.06 2.06-.94-2.06-.94-.94-2.06-.94 2.06-2.06.94z\"/><path d=\"M17.41 7.96l-1.37-1.37c-.4-.4-.92-.59-1.43-.59-.52 0-1.04.2-1.43.59L10.3 9.45l-7.72 7.72c-.78.78-.78 2.05 0 2.83L4 21.41c.39.39.9.59 1.41.59.51 0 1.02-.2 1.41-.59l7.78-7.78 2.81-2.81c.8-.78.8-2.07 0-2.86zM5.41 20L4 18.59l7.72-7.72 1.47 1.35L5.41 20z\"/>\n",
              "  </svg>\n",
              "      </button>\n",
              "      \n",
              "  <style>\n",
              "    .colab-df-container {\n",
              "      display:flex;\n",
              "      flex-wrap:wrap;\n",
              "      gap: 12px;\n",
              "    }\n",
              "\n",
              "    .colab-df-convert {\n",
              "      background-color: #E8F0FE;\n",
              "      border: none;\n",
              "      border-radius: 50%;\n",
              "      cursor: pointer;\n",
              "      display: none;\n",
              "      fill: #1967D2;\n",
              "      height: 32px;\n",
              "      padding: 0 0 0 0;\n",
              "      width: 32px;\n",
              "    }\n",
              "\n",
              "    .colab-df-convert:hover {\n",
              "      background-color: #E2EBFA;\n",
              "      box-shadow: 0px 1px 2px rgba(60, 64, 67, 0.3), 0px 1px 3px 1px rgba(60, 64, 67, 0.15);\n",
              "      fill: #174EA6;\n",
              "    }\n",
              "\n",
              "    [theme=dark] .colab-df-convert {\n",
              "      background-color: #3B4455;\n",
              "      fill: #D2E3FC;\n",
              "    }\n",
              "\n",
              "    [theme=dark] .colab-df-convert:hover {\n",
              "      background-color: #434B5C;\n",
              "      box-shadow: 0px 1px 3px 1px rgba(0, 0, 0, 0.15);\n",
              "      filter: drop-shadow(0px 1px 2px rgba(0, 0, 0, 0.3));\n",
              "      fill: #FFFFFF;\n",
              "    }\n",
              "  </style>\n",
              "\n",
              "      <script>\n",
              "        const buttonEl =\n",
              "          document.querySelector('#df-818188bb-454d-4e81-9dc3-c12a4ab740dc button.colab-df-convert');\n",
              "        buttonEl.style.display =\n",
              "          google.colab.kernel.accessAllowed ? 'block' : 'none';\n",
              "\n",
              "        async function convertToInteractive(key) {\n",
              "          const element = document.querySelector('#df-818188bb-454d-4e81-9dc3-c12a4ab740dc');\n",
              "          const dataTable =\n",
              "            await google.colab.kernel.invokeFunction('convertToInteractive',\n",
              "                                                     [key], {});\n",
              "          if (!dataTable) return;\n",
              "\n",
              "          const docLinkHtml = 'Like what you see? Visit the ' +\n",
              "            '<a target=\"_blank\" href=https://colab.research.google.com/notebooks/data_table.ipynb>data table notebook</a>'\n",
              "            + ' to learn more about interactive tables.';\n",
              "          element.innerHTML = '';\n",
              "          dataTable['output_type'] = 'display_data';\n",
              "          await google.colab.output.renderOutput(dataTable, element);\n",
              "          const docLink = document.createElement('div');\n",
              "          docLink.innerHTML = docLinkHtml;\n",
              "          element.appendChild(docLink);\n",
              "        }\n",
              "      </script>\n",
              "    </div>\n",
              "  </div>\n",
              "  "
            ]
          },
          "metadata": {},
          "execution_count": 38
        }
      ]
    },
    {
      "cell_type": "code",
      "source": [
        "x=data.drop('Survived',axis=1)\n",
        "y=data.Survived"
      ],
      "metadata": {
        "id": "PFG4Sctc1j1X"
      },
      "execution_count": 39,
      "outputs": []
    },
    {
      "cell_type": "code",
      "source": [
        "x_train, x_test, y_train, y_test = train_test_split(x,y, test_size=0.2, random_state=1)\n",
        "x_train.shape , x_test.shape, y_train.shape, y_test.shape"
      ],
      "metadata": {
        "colab": {
          "base_uri": "https://localhost:8080/"
        },
        "id": "KxGQ1OIc1j9K",
        "outputId": "ad8d255b-6356-40a5-8f88-7c1486ef9cf3"
      },
      "execution_count": 41,
      "outputs": [
        {
          "output_type": "execute_result",
          "data": {
            "text/plain": [
              "((15, 9), (4, 9), (15,), (4,))"
            ]
          },
          "metadata": {},
          "execution_count": 41
        }
      ]
    },
    {
      "cell_type": "code",
      "source": [
        "#Create a Gaussian Classifier\n",
        "clf=RandomForestClassifier(n_estimators=100)\n",
        "\n",
        "#Train the model using the training sets y_pred=clf.predict(X_test)\n",
        "clf.fit(x_train,y_train)\n",
        "\n",
        "y_pred=clf.predict(x_test)"
      ],
      "metadata": {
        "id": "lGQAf1BE1kAZ"
      },
      "execution_count": 42,
      "outputs": []
    },
    {
      "cell_type": "code",
      "source": [
        "columns2 = data.columns.tolist()\n",
        "columns2"
      ],
      "metadata": {
        "colab": {
          "base_uri": "https://localhost:8080/"
        },
        "id": "h-rhgjKF70Tm",
        "outputId": "2bff5dfa-85bb-4e3d-ad39-9d971a5f55b4"
      },
      "execution_count": 43,
      "outputs": [
        {
          "output_type": "execute_result",
          "data": {
            "text/plain": [
              "['#LYMPH',\n",
              " '#MO0',\n",
              " 'TNF-alpha',\n",
              " 'IL1-Beta',\n",
              " 'INF-alpha',\n",
              " 'Average_IL6',\n",
              " 'Average_IL8',\n",
              " 'Average_NEUT',\n",
              " 'Average_BloodLoss',\n",
              " 'Survived']"
            ]
          },
          "metadata": {},
          "execution_count": 43
        }
      ]
    },
    {
      "cell_type": "code",
      "source": [
        "from sklearn.ensemble import RandomForestClassifier\n",
        "\n",
        "#Create a Gaussian Classifier\n",
        "clf=RandomForestClassifier(n_estimators=200)\n",
        "\n",
        "#Train the model using the training sets y_pred=clf.predict(X_test)\n",
        "clf.fit(x_train,y_train)"
      ],
      "metadata": {
        "colab": {
          "base_uri": "https://localhost:8080/"
        },
        "id": "goNrAqsm1ttR",
        "outputId": "d744fd3c-8d18-411c-c7b1-6246c96fae2b"
      },
      "execution_count": 44,
      "outputs": [
        {
          "output_type": "execute_result",
          "data": {
            "text/plain": [
              "RandomForestClassifier(n_estimators=200)"
            ]
          },
          "metadata": {},
          "execution_count": 44
        }
      ]
    },
    {
      "cell_type": "code",
      "source": [
        "clf.feature_importances_"
      ],
      "metadata": {
        "colab": {
          "base_uri": "https://localhost:8080/"
        },
        "id": "XvxHijY28Oqi",
        "outputId": "94f54aeb-e1c1-4580-82a0-51cafb1bf354"
      },
      "execution_count": 45,
      "outputs": [
        {
          "output_type": "execute_result",
          "data": {
            "text/plain": [
              "array([0.0218845 , 0.01551359, 0.23176852, 0.00601525, 0.07116473,\n",
              "       0.14948202, 0.039978  , 0.43453772, 0.02965569])"
            ]
          },
          "metadata": {},
          "execution_count": 45
        }
      ]
    },
    {
      "cell_type": "code",
      "source": [
        "x_train.columns"
      ],
      "metadata": {
        "colab": {
          "base_uri": "https://localhost:8080/"
        },
        "id": "e2aJYjsu8S4e",
        "outputId": "e185b3c7-6f48-4f49-d810-56e8ed347bb6"
      },
      "execution_count": 46,
      "outputs": [
        {
          "output_type": "execute_result",
          "data": {
            "text/plain": [
              "Index(['#LYMPH', '#MO0', 'TNF-alpha', 'IL1-Beta', 'INF-alpha', 'Average_IL6',\n",
              "       'Average_IL8', 'Average_NEUT', 'Average_BloodLoss'],\n",
              "      dtype='object')"
            ]
          },
          "metadata": {},
          "execution_count": 46
        }
      ]
    },
    {
      "cell_type": "code",
      "source": [
        "import pandas as pd\n",
        "feature_imp = pd.Series(clf.feature_importances_,index=x_train.columns).sort_values(ascending=False)\n",
        "feature_imp"
      ],
      "metadata": {
        "colab": {
          "base_uri": "https://localhost:8080/"
        },
        "id": "RB0wOPnm8a9B",
        "outputId": "c4ace6d9-7bba-469b-82c9-12420f6b5c91"
      },
      "execution_count": 47,
      "outputs": [
        {
          "output_type": "execute_result",
          "data": {
            "text/plain": [
              "Average_NEUT         0.434538\n",
              "TNF-alpha            0.231769\n",
              "Average_IL6          0.149482\n",
              "INF-alpha            0.071165\n",
              "Average_IL8          0.039978\n",
              "Average_BloodLoss    0.029656\n",
              "#LYMPH               0.021884\n",
              "#MO0                 0.015514\n",
              "IL1-Beta             0.006015\n",
              "dtype: float64"
            ]
          },
          "metadata": {},
          "execution_count": 47
        }
      ]
    },
    {
      "cell_type": "code",
      "source": [
        "#When n_estimators in Random Forest was set to 200\n",
        "import matplotlib.pyplot as plt\n",
        "import seaborn as sns\n",
        "%matplotlib inline\n",
        "# Creating a bar plot\n",
        "sns.barplot(x=feature_imp, y=feature_imp.index)\n",
        "# Add labels to your graph\n",
        "plt.xlabel('Feature Importance Score')\n",
        "plt.ylabel('Features')\n",
        "plt.title(\"Visualizing Important Features\")\n",
        "plt.legend()\n",
        "plt.show()"
      ],
      "metadata": {
        "colab": {
          "base_uri": "https://localhost:8080/",
          "height": 312
        },
        "id": "OsNDLFYp8eEQ",
        "outputId": "eb48b019-c754-49e6-e106-6fa09599bc14"
      },
      "execution_count": 48,
      "outputs": [
        {
          "output_type": "stream",
          "name": "stderr",
          "text": [
            "No handles with labels found to put in legend.\n"
          ]
        },
        {
          "output_type": "display_data",
          "data": {
            "text/plain": [
              "<Figure size 432x288 with 1 Axes>"
            ],
            "image/png": "[encoded data removed]"
          },
          "metadata": {
            "needs_background": "light"
          }
        }
      ]
    }
  ]
}